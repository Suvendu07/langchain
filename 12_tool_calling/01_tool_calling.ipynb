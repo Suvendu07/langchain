{
 "cells": [
  {
   "cell_type": "markdown",
   "id": "88367cea",
   "metadata": {},
   "source": [
    "Tool Calling → lets the LLM decide which tool to use and what input to pass, based on the user’s natural language.\n",
    "\n",
    "We use it because:\n",
    "\n",
    "LLMs can’t fetch real-time data or run actual code.\n",
    "\n",
    "Without it, programmers would need to manually pick and run tools.\n",
    "\n",
    "With it, the system becomes dynamic, flexible, and natural."
   ]
  },
  {
   "cell_type": "code",
   "execution_count": null,
   "id": "243cbca7",
   "metadata": {},
   "outputs": [
    {
     "name": "stderr",
     "output_type": "stream",
     "text": [
      "d:\\LangChain\\venv\\lib\\site-packages\\tqdm\\auto.py:21: TqdmWarning: IProgress not found. Please update jupyter and ipywidgets. See https://ipywidgets.readthedocs.io/en/stable/user_install.html\n",
      "  from .autonotebook import tqdm as notebook_tqdm\n"
     ]
    }
   ],
   "source": [
    "from langchain_google_genai import ChatGoogleGenerativeAI\n",
    "from dotenv import load_dotenv\n",
    "from langchain_core.messages import HumanMessage\n",
    "import requests\n",
    "from langchain_core.tools import tool"
   ]
  },
  {
   "cell_type": "code",
   "execution_count": null,
   "id": "e9d3055f",
   "metadata": {},
   "outputs": [
    {
     "data": {
      "text/plain": [
       "True"
      ]
     },
     "execution_count": 2,
     "metadata": {},
     "output_type": "execute_result"
    }
   ],
   "source": [
    "load_dotenv()"
   ]
  },
  {
   "cell_type": "markdown",
   "id": "60fb170f",
   "metadata": {},
   "source": [
    "## Too Creation"
   ]
  },
  {
   "cell_type": "code",
   "execution_count": null,
   "id": "99921c64",
   "metadata": {},
   "outputs": [],
   "source": [
    "# tool create\n",
    "@tool\n",
    "def multiply(a : int, b : int) -> int:\n",
    "    \"\"\"given 2 numbers a and b this tool returns their product\"\"\"\n",
    "    \n",
    "    return a * b"
   ]
  },
  {
   "cell_type": "code",
   "execution_count": null,
   "id": "7e40ce36",
   "metadata": {},
   "outputs": [
    {
     "name": "stdout",
     "output_type": "stream",
     "text": [
      "20\n"
     ]
    }
   ],
   "source": [
    "print(multiply.invoke({'a' : 4, 'b' : 5}))"
   ]
  },
  {
   "cell_type": "code",
   "execution_count": null,
   "id": "3175c6d7",
   "metadata": {},
   "outputs": [
    {
     "data": {
      "text/plain": [
       "'multiply'"
      ]
     },
     "execution_count": 5,
     "metadata": {},
     "output_type": "execute_result"
    }
   ],
   "source": [
    "multiply.name"
   ]
  },
  {
   "cell_type": "code",
   "execution_count": null,
   "id": "c8a85f0b",
   "metadata": {},
   "outputs": [
    {
     "data": {
      "text/plain": [
       "{'a': {'title': 'A', 'type': 'integer'},\n",
       " 'b': {'title': 'B', 'type': 'integer'}}"
      ]
     },
     "execution_count": 6,
     "metadata": {},
     "output_type": "execute_result"
    }
   ],
   "source": [
    "multiply.args"
   ]
  },
  {
   "cell_type": "code",
   "execution_count": null,
   "id": "fc5160eb",
   "metadata": {},
   "outputs": [
    {
     "data": {
      "text/plain": [
       "'given 2 numbers a and b this tool returns their product'"
      ]
     },
     "execution_count": 7,
     "metadata": {},
     "output_type": "execute_result"
    }
   ],
   "source": [
    "multiply.description"
   ]
  },
  {
   "cell_type": "markdown",
   "id": "28e33a7b",
   "metadata": {},
   "source": [
    "## Tool Binding"
   ]
  },
  {
   "cell_type": "code",
   "execution_count": null,
   "id": "46460fdf",
   "metadata": {},
   "outputs": [],
   "source": [
    "# tool binding\n",
    "llm = ChatGoogleGenerativeAI(model = 'gemini-2.5-flash')"
   ]
  },
  {
   "cell_type": "code",
   "execution_count": null,
   "id": "1c8fc814",
   "metadata": {},
   "outputs": [],
   "source": [
    "llm_with_tools = llm.bind_tools([multiply])"
   ]
  },
  {
   "cell_type": "code",
   "execution_count": null,
   "id": "b0c5fb6c",
   "metadata": {},
   "outputs": [
    {
     "data": {
      "text/plain": [
       "\"There are not all llm are allowed to bind the tools.\\n   some of llm's are allowed to bind the tools.\""
      ]
     },
     "execution_count": 16,
     "metadata": {},
     "output_type": "execute_result"
    }
   ],
   "source": [
    "\"\"\"There are not all llm are allowed to bind the tools.\n",
    "   some of llm's are allowed to bind the tools.\"\"\""
   ]
  },
  {
   "cell_type": "markdown",
   "id": "6b3dae37",
   "metadata": {},
   "source": [
    "## Tool Calling"
   ]
  },
  {
   "cell_type": "markdown",
   "id": "5df6467e",
   "metadata": {},
   "source": [
    "LLM’s role:\n",
    "It looks at the user’s prompt, decides which tool is most relevant, and figures out what input should be sent to that tool.\n",
    "\n",
    "Tool’s role:\n",
    "The tool actually performs the task (e.g., multiplying numbers, fetching weather, querying a database).\n",
    "\n",
    "Final step:\n",
    "The tool returns the result → LLM takes that raw result and explains it back to the user in natural language."
   ]
  },
  {
   "cell_type": "code",
   "execution_count": null,
   "id": "97f85bfb",
   "metadata": {},
   "outputs": [],
   "source": [
    "# now we do that how and when a llm call a tool. This process is called tool calling."
   ]
  },
  {
   "cell_type": "code",
   "execution_count": null,
   "id": "61dfd6a6",
   "metadata": {},
   "outputs": [
    {
     "data": {
      "text/plain": [
       "AIMessage(content=\"I'm doing well, thank you! How can I help you today?\", additional_kwargs={}, response_metadata={'prompt_feedback': {'block_reason': 0, 'safety_ratings': []}, 'finish_reason': 'STOP', 'safety_ratings': []}, id='run--af502758-6ffc-42eb-9fcb-9c8d4fcf7866-0', usage_metadata={'input_tokens': 58, 'output_tokens': 16, 'total_tokens': 74, 'input_token_details': {'cache_read': 0}})"
      ]
     },
     "execution_count": 18,
     "metadata": {},
     "output_type": "execute_result"
    }
   ],
   "source": [
    "llm_with_tools.invoke(\"hi how are you\")\n",
    "# in this line we see a content. but not see the tool_call."
   ]
  },
  {
   "cell_type": "code",
   "execution_count": null,
   "id": "95bd0875",
   "metadata": {},
   "outputs": [
    {
     "data": {
      "text/plain": [
       "AIMessage(content='', additional_kwargs={'function_call': {'name': 'multiply', 'arguments': '{\"a\": 3.0, \"b\": 10.0}'}}, response_metadata={'prompt_feedback': {'block_reason': 0, 'safety_ratings': []}, 'finish_reason': 'STOP', 'safety_ratings': []}, id='run--c582c084-6d8a-4e8f-8c59-427595f7c0bf-0', tool_calls=[{'name': 'multiply', 'args': {'a': 3.0, 'b': 10.0}, 'id': '36051a22-54e0-4caa-a1d8-89fce15c0f2b', 'type': 'tool_call'}], usage_metadata={'input_tokens': 64, 'output_tokens': 19, 'total_tokens': 134, 'input_token_details': {'cache_read': 0}})"
      ]
     },
     "execution_count": 23,
     "metadata": {},
     "output_type": "execute_result"
    }
   ],
   "source": [
    "llm_with_tools.invoke(\"can you multiply 3 with 10.\")\n",
    "# in this lien we see the tool_Call but not see the content."
   ]
  },
  {
   "cell_type": "code",
   "execution_count": null,
   "id": "3ae5ff10",
   "metadata": {},
   "outputs": [],
   "source": [
    "querry = HumanMessage(\"can you multiply 3 with 10\")"
   ]
  },
  {
   "cell_type": "code",
   "execution_count": null,
   "id": "5ba48b8f",
   "metadata": {},
   "outputs": [],
   "source": [
    "message = [querry]"
   ]
  },
  {
   "cell_type": "code",
   "execution_count": null,
   "id": "6d98ab72",
   "metadata": {},
   "outputs": [],
   "source": [
    "result = llm_with_tools.invoke(message)"
   ]
  },
  {
   "cell_type": "code",
   "execution_count": null,
   "id": "d62a0e37",
   "metadata": {},
   "outputs": [],
   "source": [
    "message.append(result)"
   ]
  },
  {
   "cell_type": "markdown",
   "id": "94e9e2dc",
   "metadata": {},
   "source": [
    "## TOOL EXECUTION"
   ]
  },
  {
   "cell_type": "markdown",
   "id": "db5ffd38",
   "metadata": {},
   "source": [
    "Programmer can manually pass them(input)\n",
    "\n",
    "Tool Calling = LLM chooses tool + sends inputs\n",
    "\n",
    "Tool Execution = Programmer sends inputs manually"
   ]
  },
  {
   "cell_type": "code",
   "execution_count": null,
   "id": "f895d6bd",
   "metadata": {},
   "outputs": [],
   "source": [
    "tool_result = multiply.invoke(result.tool_calls[0]['args'])"
   ]
  },
  {
   "cell_type": "code",
   "execution_count": null,
   "id": "7717d23e",
   "metadata": {},
   "outputs": [],
   "source": [
    "message.append(tool_result)"
   ]
  },
  {
   "cell_type": "code",
   "execution_count": null,
   "id": "783200cb",
   "metadata": {},
   "outputs": [
    {
     "data": {
      "text/plain": [
       "[HumanMessage(content='can you multiply 3 with 10', additional_kwargs={}, response_metadata={}),\n",
       " AIMessage(content='', additional_kwargs={'function_call': {'name': 'multiply', 'arguments': '{\"a\": 3.0, \"b\": 10.0}'}}, response_metadata={'prompt_feedback': {'block_reason': 0, 'safety_ratings': []}, 'finish_reason': 'STOP', 'safety_ratings': []}, id='run--515ac99e-60fd-4326-a05c-4d47c96e28e9-0', tool_calls=[{'name': 'multiply', 'args': {'a': 3.0, 'b': 10.0}, 'id': '8df1b657-1df9-4cc9-993c-b98830b4afb2', 'type': 'tool_call'}], usage_metadata={'input_tokens': 63, 'output_tokens': 19, 'total_tokens': 133, 'input_token_details': {'cache_read': 0}}),\n",
       " 30]"
      ]
     },
     "execution_count": 33,
     "metadata": {},
     "output_type": "execute_result"
    }
   ],
   "source": [
    "message"
   ]
  },
  {
   "cell_type": "code",
   "execution_count": null,
   "id": "b75d483e",
   "metadata": {},
   "outputs": [
    {
     "name": "stdout",
     "output_type": "stream",
     "text": [
      "<class 'list'> [HumanMessage(content='can you multiply 3 with 10', additional_kwargs={}, response_metadata={}), AIMessage(content='', additional_kwargs={'function_call': {'name': 'multiply', 'arguments': '{\"a\": 3.0, \"b\": 10.0}'}}, response_metadata={'prompt_feedback': {'block_reason': 0, 'safety_ratings': []}, 'finish_reason': 'STOP', 'safety_ratings': []}, id='run--515ac99e-60fd-4326-a05c-4d47c96e28e9-0', tool_calls=[{'name': 'multiply', 'args': {'a': 3.0, 'b': 10.0}, 'id': '8df1b657-1df9-4cc9-993c-b98830b4afb2', 'type': 'tool_call'}], usage_metadata={'input_tokens': 63, 'output_tokens': 19, 'total_tokens': 133, 'input_token_details': {'cache_read': 0}}), 30]\n"
     ]
    }
   ],
   "source": [
    "print(type(message), message)"
   ]
  },
  {
   "cell_type": "code",
   "execution_count": null,
   "id": "ddc536cb",
   "metadata": {},
   "outputs": [],
   "source": [
    "clean_message = [msg for msg in message if not isinstance(msg, int)]\n",
    "\n",
    "response = llm_with_tools.invoke(clean_message)"
   ]
  },
  {
   "cell_type": "code",
   "execution_count": null,
   "id": "2ecd37d6",
   "metadata": {},
   "outputs": [
    {
     "name": "stdout",
     "output_type": "stream",
     "text": [
      "\n"
     ]
    }
   ],
   "source": [
    "print(response.content)"
   ]
  },
  {
   "cell_type": "code",
   "execution_count": null,
   "id": "bbcc7fd7",
   "metadata": {},
   "outputs": [],
   "source": []
  }
 ],
 "metadata": {
  "kernelspec": {
   "display_name": "venv",
   "language": "python",
   "name": "python3"
  },
  "language_info": {
   "codemirror_mode": {
    "name": "ipython",
    "version": 3
   },
   "file_extension": ".py",
   "mimetype": "text/x-python",
   "name": "python",
   "nbconvert_exporter": "python",
   "pygments_lexer": "ipython3",
   "version": "3.10.3"
  }
 },
 "nbformat": 4,
 "nbformat_minor": 5
}
