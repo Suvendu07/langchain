{
 "cells": [
  {
   "cell_type": "markdown",
   "id": "990df89b",
   "metadata": {},
   "source": [
    "-> A toolkits just a collection of related that serve a common purpose package together for convenience and reusability.\n",
    "\n",
    "in langchain:\n",
    "\n",
    ". A toolkit might be: GoogleDriveToolKit\n",
    "\n",
    ". And it can contain the following tools.\n",
    "\n",
    "GoogleDriveCreateFileTool: Upload a file\n",
    "\n",
    "GoogleDriveSearchTool: Search for a file by name/content"
   ]
  },
  {
   "cell_type": "code",
   "execution_count": 17,
   "id": "30328b03",
   "metadata": {},
   "outputs": [],
   "source": [
    "from langchain.tools import tool"
   ]
  },
  {
   "cell_type": "code",
   "execution_count": 18,
   "id": "6716ca60",
   "metadata": {},
   "outputs": [],
   "source": [
    "# Custom tools\n",
    "@tool\n",
    "def add(a: int, b:int) -> int:\n",
    "    \"\"\"Add two numbers\"\"\"\n",
    "    return a + b"
   ]
  },
  {
   "cell_type": "code",
   "execution_count": 19,
   "id": "da9a05de",
   "metadata": {},
   "outputs": [],
   "source": [
    "@tool\n",
    "def multiply(a : int, b : int) -> int:\n",
    "    \"\"\"multiply two numbers\"\"\"\n",
    "    return a * b"
   ]
  },
  {
   "cell_type": "code",
   "execution_count": 20,
   "id": "8ead2350",
   "metadata": {},
   "outputs": [],
   "source": [
    "class MathToolKit():\n",
    "    \n",
    "    def get_tools(self):\n",
    "        \n",
    "        return [add, multiply]"
   ]
  },
  {
   "cell_type": "code",
   "execution_count": 21,
   "id": "d08faf01",
   "metadata": {},
   "outputs": [
    {
     "name": "stdout",
     "output_type": "stream",
     "text": [
      "add => Add two numbers\n",
      "multiply => multiply two numbers\n"
     ]
    }
   ],
   "source": [
    "toolkit = MathToolKit()\n",
    "\n",
    "tools = toolkit.get_tools()\n",
    "\n",
    "for tool in tools:\n",
    "    print(tool.name, \"=>\", tool.description)"
   ]
  },
  {
   "cell_type": "code",
   "execution_count": null,
   "id": "c1510afc",
   "metadata": {},
   "outputs": [],
   "source": []
  }
 ],
 "metadata": {
  "kernelspec": {
   "display_name": "venv",
   "language": "python",
   "name": "python3"
  },
  "language_info": {
   "codemirror_mode": {
    "name": "ipython",
    "version": 3
   },
   "file_extension": ".py",
   "mimetype": "text/x-python",
   "name": "python",
   "nbconvert_exporter": "python",
   "pygments_lexer": "ipython3",
   "version": "3.10.3"
  }
 },
 "nbformat": 4,
 "nbformat_minor": 5
}
