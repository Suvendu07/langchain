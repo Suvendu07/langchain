{
 "cells": [
  {
   "cell_type": "code",
   "execution_count": 1,
   "id": "21c091e8",
   "metadata": {},
   "outputs": [],
   "source": [
    "from langchain.tools import tool"
   ]
  },
  {
   "cell_type": "code",
   "execution_count": 2,
   "id": "1c50bf56",
   "metadata": {},
   "outputs": [],
   "source": [
    "# step -1 : create a function\n",
    "\n",
    "def multiply(a, b):\n",
    "    \"\"\"multiply two number\"\"\"\n",
    "    return a * b"
   ]
  },
  {
   "cell_type": "code",
   "execution_count": 3,
   "id": "3db79d92",
   "metadata": {},
   "outputs": [],
   "source": [
    "# step - 2 : add type hints\n",
    "def multiply(a : int, b : int) -> int:\n",
    "    \"\"\"multiply two number\"\"\"\n",
    "    return a * b"
   ]
  },
  {
   "cell_type": "code",
   "execution_count": 6,
   "id": "69ad143b",
   "metadata": {},
   "outputs": [],
   "source": [
    "# step - 3 : add tool decorator\n",
    "@tool\n",
    "def multiply(a : int, b : int) -> int:\n",
    "    \"\"\"multiply two number\"\"\"\n",
    "    return a * b"
   ]
  },
  {
   "cell_type": "code",
   "execution_count": 7,
   "id": "37f2af94",
   "metadata": {},
   "outputs": [],
   "source": [
    "result = multiply.invoke({'a':2,'b':4})"
   ]
  },
  {
   "cell_type": "code",
   "execution_count": 8,
   "id": "1e37233d",
   "metadata": {},
   "outputs": [
    {
     "name": "stdout",
     "output_type": "stream",
     "text": [
      "8\n"
     ]
    }
   ],
   "source": [
    "print(result)"
   ]
  },
  {
   "cell_type": "code",
   "execution_count": 9,
   "id": "739bf6cf",
   "metadata": {},
   "outputs": [
    {
     "name": "stdout",
     "output_type": "stream",
     "text": [
      "multiply\n"
     ]
    }
   ],
   "source": [
    "print(multiply.name)"
   ]
  },
  {
   "cell_type": "code",
   "execution_count": 10,
   "id": "45582e9b",
   "metadata": {},
   "outputs": [
    {
     "name": "stdout",
     "output_type": "stream",
     "text": [
      "multiply two number\n"
     ]
    }
   ],
   "source": [
    "print(multiply.description)"
   ]
  },
  {
   "cell_type": "code",
   "execution_count": 11,
   "id": "bf7973be",
   "metadata": {},
   "outputs": [
    {
     "name": "stdout",
     "output_type": "stream",
     "text": [
      "{'a': {'title': 'A', 'type': 'integer'}, 'b': {'title': 'B', 'type': 'integer'}}\n"
     ]
    }
   ],
   "source": [
    "print(multiply.args)"
   ]
  },
  {
   "cell_type": "code",
   "execution_count": null,
   "id": "92790177",
   "metadata": {},
   "outputs": [],
   "source": []
  }
 ],
 "metadata": {
  "kernelspec": {
   "display_name": "venv",
   "language": "python",
   "name": "python3"
  },
  "language_info": {
   "codemirror_mode": {
    "name": "ipython",
    "version": 3
   },
   "file_extension": ".py",
   "mimetype": "text/x-python",
   "name": "python",
   "nbconvert_exporter": "python",
   "pygments_lexer": "ipython3",
   "version": "3.10.3"
  }
 },
 "nbformat": 4,
 "nbformat_minor": 5
}
