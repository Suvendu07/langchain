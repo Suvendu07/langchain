{
 "cells": [
  {
   "cell_type": "code",
   "execution_count": 1,
   "id": "bcd26dcf",
   "metadata": {},
   "outputs": [],
   "source": [
    "from langchain.tools import StructuredTool\n",
    "from pydantic import BaseModel, Field"
   ]
  },
  {
   "cell_type": "code",
   "execution_count": 2,
   "id": "6ea21b60",
   "metadata": {},
   "outputs": [],
   "source": [
    "class multiplyinput(BaseModel):\n",
    "    a:int = Field(required = True, description = 'the first number to add.')\n",
    "    b:int = Field(required = True, description = 'the second number to add.')"
   ]
  },
  {
   "cell_type": "code",
   "execution_count": 3,
   "id": "eb5e3abc",
   "metadata": {},
   "outputs": [],
   "source": [
    "def multiply_func(a:int, b:int) -> int:\n",
    "    return a * b"
   ]
  },
  {
   "cell_type": "code",
   "execution_count": 4,
   "id": "a90774f2",
   "metadata": {},
   "outputs": [],
   "source": [
    "multiply_tool = StructuredTool.from_function(\n",
    "    func = multiply_func,\n",
    "    name = \"multiply\",\n",
    "    description = \"multiply two number\",\n",
    "    args_schema = multiplyinput\n",
    ")"
   ]
  },
  {
   "cell_type": "code",
   "execution_count": 5,
   "id": "8f2f2e0e",
   "metadata": {},
   "outputs": [],
   "source": [
    "result = multiply_tool.invoke({'a':6, 'b': 10})"
   ]
  },
  {
   "cell_type": "code",
   "execution_count": 6,
   "id": "3bfc3759",
   "metadata": {},
   "outputs": [
    {
     "name": "stdout",
     "output_type": "stream",
     "text": [
      "60\n"
     ]
    }
   ],
   "source": [
    "print(result)"
   ]
  },
  {
   "cell_type": "code",
   "execution_count": 8,
   "id": "6868e543",
   "metadata": {},
   "outputs": [
    {
     "name": "stdout",
     "output_type": "stream",
     "text": [
      "multiply\n"
     ]
    }
   ],
   "source": [
    "print(multiply_tool.name)"
   ]
  },
  {
   "cell_type": "code",
   "execution_count": 9,
   "id": "a38d61c6",
   "metadata": {},
   "outputs": [
    {
     "name": "stdout",
     "output_type": "stream",
     "text": [
      "{'a': {'description': 'the first number to add.', 'required': True, 'title': 'A', 'type': 'integer'}, 'b': {'description': 'the second number to add.', 'required': True, 'title': 'B', 'type': 'integer'}}\n"
     ]
    }
   ],
   "source": [
    "print(multiply_tool.args)"
   ]
  },
  {
   "cell_type": "code",
   "execution_count": 10,
   "id": "3ced1c18",
   "metadata": {},
   "outputs": [
    {
     "name": "stdout",
     "output_type": "stream",
     "text": [
      "multiply two number\n"
     ]
    }
   ],
   "source": [
    "print(multiply_tool.description)"
   ]
  },
  {
   "cell_type": "code",
   "execution_count": null,
   "id": "a5364725",
   "metadata": {},
   "outputs": [],
   "source": []
  }
 ],
 "metadata": {
  "kernelspec": {
   "display_name": "venv",
   "language": "python",
   "name": "python3"
  },
  "language_info": {
   "codemirror_mode": {
    "name": "ipython",
    "version": 3
   },
   "file_extension": ".py",
   "mimetype": "text/x-python",
   "name": "python",
   "nbconvert_exporter": "python",
   "pygments_lexer": "ipython3",
   "version": "3.10.3"
  }
 },
 "nbformat": 4,
 "nbformat_minor": 5
}
