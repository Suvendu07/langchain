{
 "cells": [
  {
   "cell_type": "code",
   "execution_count": 5,
   "id": "1d34f5ed",
   "metadata": {},
   "outputs": [],
   "source": [
    "from langchain.tools import BaseTool\n",
    "from typing import Type\n",
    "from pydantic import BaseModel, Field"
   ]
  },
  {
   "cell_type": "code",
   "execution_count": 6,
   "id": "d2d244ee",
   "metadata": {},
   "outputs": [],
   "source": [
    "class multiplyinput(BaseModel):\n",
    "    a:int = Field(required = True, description = \" the first number to add.\")\n",
    "    b:int = Field(required = \"the second number to add.\")"
   ]
  },
  {
   "cell_type": "code",
   "execution_count": 7,
   "id": "1a304992",
   "metadata": {},
   "outputs": [],
   "source": [
    "class multiplyTool(BaseTool):\n",
    "    name : str = \"multiply\"\n",
    "    description : str = \"multiply two numbers\"\n",
    "    \n",
    "    args_schema: Type[BaseModel] = multiplyinput\n",
    "    \n",
    "    def _run(self, a: int, b:int) -> int:\n",
    "        return a * b"
   ]
  },
  {
   "cell_type": "code",
   "execution_count": 8,
   "id": "b4920f1d",
   "metadata": {},
   "outputs": [],
   "source": [
    "multiply_tool = multiplyTool()"
   ]
  },
  {
   "cell_type": "code",
   "execution_count": 9,
   "id": "d89ac433",
   "metadata": {},
   "outputs": [],
   "source": [
    "result = multiply_tool.invoke({'a':2, 'b':5})"
   ]
  },
  {
   "cell_type": "code",
   "execution_count": 10,
   "id": "6e2704b1",
   "metadata": {},
   "outputs": [
    {
     "name": "stdout",
     "output_type": "stream",
     "text": [
      "10\n"
     ]
    }
   ],
   "source": [
    "print(result)"
   ]
  },
  {
   "cell_type": "code",
   "execution_count": null,
   "id": "3e652638",
   "metadata": {},
   "outputs": [],
   "source": []
  }
 ],
 "metadata": {
  "kernelspec": {
   "display_name": "venv",
   "language": "python",
   "name": "python3"
  },
  "language_info": {
   "codemirror_mode": {
    "name": "ipython",
    "version": 3
   },
   "file_extension": ".py",
   "mimetype": "text/x-python",
   "name": "python",
   "nbconvert_exporter": "python",
   "pygments_lexer": "ipython3",
   "version": "3.10.3"
  }
 },
 "nbformat": 4,
 "nbformat_minor": 5
}
